{
  "nbformat": 4,
  "nbformat_minor": 0,
  "metadata": {
    "colab": {
      "name": "Promedio.ipynb",
      "provenance": []
    },
    "kernelspec": {
      "name": "python3",
      "display_name": "Python 3"
    },
    "language_info": {
      "name": "python"
    }
  },
  "cells": [
    {
      "cell_type": "code",
      "execution_count": null,
      "metadata": {
        "colab": {
          "base_uri": "https://localhost:8080/"
        },
        "id": "O2a_7WhQHQ5t",
        "outputId": "79093c56-aec0-43bb-8d2f-edbcaf78bfe2"
      },
      "outputs": [
        {
          "output_type": "stream",
          "name": "stdout",
          "text": [
            "ingrese nombre del estudiante :raul\n",
            "ingrese primera nota: 10\n",
            "ingrese segunda nota: 20\n",
            "ingrese tercera nota: 10\n",
            "Felicidades raul aprobaste con nota: 13.33 :D\n"
          ]
        }
      ],
      "source": [
        "nombre = input(\"ingrese nombre del estudiante :\")\n",
        "nota1 = float(input(\"ingrese primera nota: \"))\n",
        "nota2 = float(input(\"ingrese segunda nota: \"))\n",
        "nota3 = float(input(\"ingrese tercera nota: \"))\n",
        "promedio = round(((nota1+nota2+nota3)/3),2)\n",
        "if(promedio >= 4):\n",
        "  print(f\"Felicidades {nombre} aprobaste con nota: {promedio} :D\")\n",
        "else:\n",
        "  print(f\"Lo sentimos {nombre} reprobaste con nota: {promedio} :c\")"
      ]
    },
    {
      "cell_type": "code",
      "source": [
        "nombre=input(\"ingrese nombre de la persona\")\n",
        "Febrero=float(input(\"ingrese monto: \"))\n",
        "Marzo=float(input(\"ingrese monto: \"))\n",
        "Abril=float(input(\"ingrese monto: \"))\n",
        "promedio=(Febrero+Marzo+Abril)/2\n",
        "print('tienes un monto{}{}!\"'  .format(\"bajo\" , \"adriana\"))"
      ],
      "metadata": {
        "colab": {
          "base_uri": "https://localhost:8080/"
        },
        "id": "xji3fnnsSmKl",
        "outputId": "d0332f89-825e-48ee-fc0e-af2de354744f"
      },
      "execution_count": null,
      "outputs": [
        {
          "output_type": "stream",
          "name": "stdout",
          "text": [
            "ingrese nombre de la personamarle\n",
            "ingrese monto: 11\n",
            "ingrese monto: 123\n",
            "ingrese monto: 1234\n",
            "tienes un montobajoadriana!\"\n"
          ]
        }
      ]
    },
    {
      "cell_type": "code",
      "source": [
        "Trabajadores=input(\"jefe de los trabajadores: \")\n",
        "cant1=float(input(\"cantidad de trabajadores: \"))\n",
        "cant2=float(input(\"cantidad de trabajadores: \"))\n",
        "cant3=float(input(\"cantidad de trabajadores: \"))\n",
        "promedio=round(cant1+cant2+cant3)/3\n",
        "print(f' cantidad de trabajadores ingresados: {promedio}')"
      ],
      "metadata": {
        "colab": {
          "base_uri": "https://localhost:8080/"
        },
        "id": "QsmBtxMFZyzY",
        "outputId": "ec4552f6-916c-4cfd-88e4-31cb1579df2a"
      },
      "execution_count": null,
      "outputs": [
        {
          "output_type": "stream",
          "name": "stdout",
          "text": [
            "jefe de los trabajadoresmario\n",
            "cantidad de trabajadores: 12\n",
            "cantidad de trabajadores: 15\n",
            "cantidad de trabajadores: 13\n",
            " cantidad de trabajadores ingresados: 13.333333333333334\n"
          ]
        }
      ]
    }
  ]
}